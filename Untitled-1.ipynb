{
 "cells": [
  {
   "cell_type": "code",
   "execution_count": 24,
   "metadata": {},
   "outputs": [
    {
     "ename": "ModuleNotFoundError",
     "evalue": "No module named 'keras'",
     "output_type": "error",
     "traceback": [
      "\u001b[1;31m---------------------------------------------------------------------------\u001b[0m",
      "\u001b[1;31mModuleNotFoundError\u001b[0m                       Traceback (most recent call last)",
      "\u001b[1;32m<ipython-input-24-fa0c422cd7d4>\u001b[0m in \u001b[0;36m<module>\u001b[1;34m\u001b[0m\n\u001b[0;32m      3\u001b[0m \u001b[1;32mfrom\u001b[0m \u001b[0mPIL\u001b[0m \u001b[1;32mimport\u001b[0m \u001b[0mImage\u001b[0m\u001b[1;33m\u001b[0m\u001b[1;33m\u001b[0m\u001b[0m\n\u001b[0;32m      4\u001b[0m \u001b[1;32mimport\u001b[0m \u001b[0mpandas\u001b[0m \u001b[1;32mas\u001b[0m \u001b[0mpd\u001b[0m\u001b[1;33m\u001b[0m\u001b[1;33m\u001b[0m\u001b[0m\n\u001b[1;32m----> 5\u001b[1;33m \u001b[1;32mimport\u001b[0m \u001b[0mkeras\u001b[0m\u001b[1;33m\u001b[0m\u001b[1;33m\u001b[0m\u001b[0m\n\u001b[0m\u001b[0;32m      6\u001b[0m \u001b[1;33m\u001b[0m\u001b[0m\n\u001b[0;32m      7\u001b[0m \u001b[1;33m\u001b[0m\u001b[0m\n",
      "\u001b[1;31mModuleNotFoundError\u001b[0m: No module named 'keras'"
     ]
    }
   ],
   "source": [
    "import numpy as np\n",
    "from numpy import asarray\n",
    "from PIL import Image\n",
    "import pandas as pd\n",
    "\n",
    "\n",
    "\n"
   ]
  },
  {
   "cell_type": "code",
   "execution_count": 2,
   "metadata": {},
   "outputs": [],
   "source": [
    "img_path = pd.read_csv(\"Human Action Recognition/Training_set.csv\")"
   ]
  },
  {
   "cell_type": "code",
   "execution_count": 3,
   "metadata": {},
   "outputs": [],
   "source": [
    "img_data_array = []\n",
    "for i in range(len(img_path)):\n",
    "    imgpt = img_path[\"filename\"][i]\n",
    "    img = Image.open(\"Human Action Recognition/train/{}\".format(imgpt))\n",
    "    arr = asarray(img)\n",
    "    img_data_array.append(arr)\n",
    "    from sklearn.model_selection import train_test_split\n",
    "\n"
   ]
  },
  {
   "cell_type": "code",
   "execution_count": 4,
   "metadata": {},
   "outputs": [],
   "source": [
    "img_path[\"image_array\"] = img_data_array"
   ]
  },
  {
   "cell_type": "code",
   "execution_count": 5,
   "metadata": {},
   "outputs": [
    {
     "data": {
      "text/html": [
       "<div>\n",
       "<style scoped>\n",
       "    .dataframe tbody tr th:only-of-type {\n",
       "        vertical-align: middle;\n",
       "    }\n",
       "\n",
       "    .dataframe tbody tr th {\n",
       "        vertical-align: top;\n",
       "    }\n",
       "\n",
       "    .dataframe thead th {\n",
       "        text-align: right;\n",
       "    }\n",
       "</style>\n",
       "<table border=\"1\" class=\"dataframe\">\n",
       "  <thead>\n",
       "    <tr style=\"text-align: right;\">\n",
       "      <th></th>\n",
       "      <th>filename</th>\n",
       "      <th>label</th>\n",
       "      <th>image_array</th>\n",
       "    </tr>\n",
       "  </thead>\n",
       "  <tbody>\n",
       "    <tr>\n",
       "      <th>0</th>\n",
       "      <td>Image_1.jpg</td>\n",
       "      <td>sitting</td>\n",
       "      <td>[[[232, 159, 90], [236, 165, 85], [230, 164, 8...</td>\n",
       "    </tr>\n",
       "    <tr>\n",
       "      <th>1</th>\n",
       "      <td>Image_2.jpg</td>\n",
       "      <td>using_laptop</td>\n",
       "      <td>[[[248, 248, 248], [248, 248, 248], [248, 248,...</td>\n",
       "    </tr>\n",
       "    <tr>\n",
       "      <th>2</th>\n",
       "      <td>Image_3.jpg</td>\n",
       "      <td>hugging</td>\n",
       "      <td>[[[252, 252, 252], [252, 252, 252], [252, 252,...</td>\n",
       "    </tr>\n",
       "    <tr>\n",
       "      <th>3</th>\n",
       "      <td>Image_4.jpg</td>\n",
       "      <td>sleeping</td>\n",
       "      <td>[[[155, 169, 172], [156, 170, 173], [157, 171,...</td>\n",
       "    </tr>\n",
       "    <tr>\n",
       "      <th>4</th>\n",
       "      <td>Image_5.jpg</td>\n",
       "      <td>using_laptop</td>\n",
       "      <td>[[[154, 148, 134], [154, 146, 133], [152, 145,...</td>\n",
       "    </tr>\n",
       "  </tbody>\n",
       "</table>\n",
       "</div>"
      ],
      "text/plain": [
       "      filename         label  \\\n",
       "0  Image_1.jpg       sitting   \n",
       "1  Image_2.jpg  using_laptop   \n",
       "2  Image_3.jpg       hugging   \n",
       "3  Image_4.jpg      sleeping   \n",
       "4  Image_5.jpg  using_laptop   \n",
       "\n",
       "                                         image_array  \n",
       "0  [[[232, 159, 90], [236, 165, 85], [230, 164, 8...  \n",
       "1  [[[248, 248, 248], [248, 248, 248], [248, 248,...  \n",
       "2  [[[252, 252, 252], [252, 252, 252], [252, 252,...  \n",
       "3  [[[155, 169, 172], [156, 170, 173], [157, 171,...  \n",
       "4  [[[154, 148, 134], [154, 146, 133], [152, 145,...  "
      ]
     },
     "execution_count": 5,
     "metadata": {},
     "output_type": "execute_result"
    }
   ],
   "source": [
    "img_path.head() # x --> image array , y --> label , convert this to x_train,y_train,x_validate,y_validate .....b\n",
    "#before that standardised the array (in such way (-1.+1))"
   ]
  },
  {
   "cell_type": "code",
   "execution_count": 6,
   "metadata": {},
   "outputs": [],
   "source": [
    "X = img_path[\"image_array\"]\n",
    "y = img_path[\"label\"]"
   ]
  },
  {
   "cell_type": "code",
   "execution_count": 7,
   "metadata": {},
   "outputs": [],
   "source": [
    "X_train, X_val, y_train, y_val = train_test_split( X, y, train_size=0.8)"
   ]
  },
  {
   "cell_type": "code",
   "execution_count": 53,
   "metadata": {},
   "outputs": [
    {
     "data": {
      "text/plain": [
       "2513     [[[135, 132, 113], [135, 132, 113], [139, 136,...\n",
       "6085     [[[200, 170, 162], [127, 97, 89], [96, 66, 58]...\n",
       "6830     [[[127, 180, 188], [109, 159, 168], [103, 151,...\n",
       "10393    [[[120, 108, 82], [124, 112, 86], [136, 122, 9...\n",
       "3391     [[[118, 85, 66], [125, 92, 73], [147, 114, 95]...\n",
       "                               ...                        \n",
       "874      [[[185, 163, 139], [185, 163, 139], [186, 164,...\n",
       "9110     [[[113, 102, 118], [86, 76, 87], [87, 77, 85],...\n",
       "10573    [[[195, 215, 216], [195, 215, 216], [195, 215,...\n",
       "2943     [[[115, 95, 84], [117, 97, 86], [113, 91, 80],...\n",
       "8033     [[[132, 118, 43], [120, 106, 31], [107, 93, 20...\n",
       "Name: image_array, Length: 10080, dtype: object"
      ]
     },
     "execution_count": 53,
     "metadata": {},
     "output_type": "execute_result"
    }
   ],
   "source": [
    "X_train"
   ]
  },
  {
   "cell_type": "code",
   "execution_count": null,
   "metadata": {},
   "outputs": [],
   "source": []
  }
 ],
 "metadata": {
  "kernelspec": {
   "display_name": "Python 3.8.8 ('base')",
   "language": "python",
   "name": "python3"
  },
  "language_info": {
   "codemirror_mode": {
    "name": "ipython",
    "version": 3
   },
   "file_extension": ".py",
   "mimetype": "text/x-python",
   "name": "python",
   "nbconvert_exporter": "python",
   "pygments_lexer": "ipython3",
   "version": "3.8.8"
  },
  "orig_nbformat": 4,
  "vscode": {
   "interpreter": {
    "hash": "57902e4e95c9d0aeed2e52aea9d4d47c080fa5063785eccc79d2295086d72489"
   }
  }
 },
 "nbformat": 4,
 "nbformat_minor": 2
}
